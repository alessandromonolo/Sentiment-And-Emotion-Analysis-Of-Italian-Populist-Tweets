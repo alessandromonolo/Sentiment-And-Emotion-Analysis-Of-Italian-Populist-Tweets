{
 "cells": [
  {
   "cell_type": "markdown",
   "metadata": {},
   "source": [
    "Project: Tweets analysis of the main Italian populist politicians - Giuseppe Grillo, Giorgia Meloni and Matteo Salvini.\n",
    "\n",
    "Student: **Alessandro Monolo** | 1790210\n",
    "\n",
    "Lecturer: Erik HEKMAN\n",
    "\n",
    "Fundamentals of Data Science - Master Data-Driven Design, Hogeschool Utrecht.\n",
    "\n",
    "August 2021 - Block E"
   ]
  },
  {
   "cell_type": "code",
   "execution_count": null,
   "metadata": {},
   "outputs": [],
   "source": [
    "# Here I import the libraries I need"
   ]
  },
  {
   "cell_type": "code",
   "execution_count": 1,
   "metadata": {},
   "outputs": [],
   "source": [
    "import tweepy\n",
    "import requests\n",
    "import json\n",
    "import webbrowser\n",
    "import time\n",
    "import pandas as pd"
   ]
  },
  {
   "cell_type": "code",
   "execution_count": null,
   "metadata": {},
   "outputs": [],
   "source": [
    "# Here I save my personal twitter API secret keys"
   ]
  },
  {
   "cell_type": "code",
   "execution_count": 2,
   "metadata": {},
   "outputs": [],
   "source": [
    "consumer_key = \"zEOrE8aIMeJDVYQr09miZYS84\"\n",
    "consumer_secret = \"BsRCsGxPue6VgN2PiPcqHAbvOLtdYRynwWYOMXjcodju9Yie5i\"\n",
    "access_token = \"1400895858938462211-PQaaX3vGL71KOhDr0lCLNI72c7lMkJ\"\n",
    "access_token_secret = \"5xVWuUIAEn4U4DfeeMNeSWPhHPLLNWG2F59tjov4loUKK\""
   ]
  },
  {
   "cell_type": "code",
   "execution_count": 3,
   "metadata": {},
   "outputs": [],
   "source": [
    "auth = tweepy.OAuthHandler(consumer_key, consumer_secret)\n",
    "auth.set_access_token(access_token, access_token_secret)"
   ]
  },
  {
   "cell_type": "code",
   "execution_count": 4,
   "metadata": {},
   "outputs": [],
   "source": [
    "api = tweepy.API(auth, wait_on_rate_limit = True)"
   ]
  },
  {
   "cell_type": "code",
   "execution_count": null,
   "metadata": {},
   "outputs": [],
   "source": [
    "# Declare the twitter user profile where to get the last tweets using tweepy as scraping library"
   ]
  },
  {
   "cell_type": "code",
   "execution_count": 5,
   "metadata": {},
   "outputs": [],
   "source": [
    "userID = \"beppe_grillo\""
   ]
  },
  {
   "cell_type": "code",
   "execution_count": 6,
   "metadata": {},
   "outputs": [],
   "source": [
    "tweets = api.user_timeline(screen_name=userID, \n",
    "                           # 200 is the maximum allowed count\n",
    "                           count=200,\n",
    "                           include_rts = False,\n",
    "                           # Necessary to keep full_text \n",
    "                           # otherwise only the first 140 words are extracted\n",
    "                           tweet_mode = 'extended'\n",
    "                           )"
   ]
  },
  {
   "cell_type": "code",
   "execution_count": null,
   "metadata": {},
   "outputs": [],
   "source": [
    "# Test if everything is working smoothly"
   ]
  },
  {
   "cell_type": "code",
   "execution_count": 7,
   "metadata": {},
   "outputs": [
    {
     "name": "stdout",
     "output_type": "stream",
     "text": [
      "ID: 1423947184282681344\n",
      "2021-08-07 10:00:39\n",
      "Il suolo è una risorsa preziosa che finora non abbiamo protetto. Ecco il giro d'Italia della #CompagniaDelSuolo per conoscere lo stato di salute dei suoli nei nostri campi. https://t.co/n6tlJVg6i6\n",
      "\n",
      "\n",
      "ID: 1423230797121740803\n",
      "2021-08-05 10:33:59\n",
      "Preferiamo perdere un dito o un braccio? Ho qualcosa di importante da dire a tutti voi. https://t.co/JijbzMPihf\n",
      "\n",
      "\n",
      "ID: 1422504336291139594\n",
      "2021-08-03 10:27:17\n",
      "L’agricoltura sulla Terra ha da sempre preso le forme e le modalità più strane, presentandosi in molte forme diverse. Ora, un gruppo di ricerca ha creato il primo orto subacqueo al mondo. Pensate, dove si trova? In Italia! https://t.co/P7hAyuiaSE\n",
      "\n",
      "\n"
     ]
    }
   ],
   "source": [
    "for info in tweets[:3]:\n",
    "     print(\"ID: {}\".format(info.id))\n",
    "     print(info.created_at)\n",
    "     print(info.full_text)\n",
    "     print(\"\\n\")"
   ]
  },
  {
   "cell_type": "code",
   "execution_count": 8,
   "metadata": {},
   "outputs": [],
   "source": [
    "all_tweets = []\n",
    "all_tweets.extend(tweets)\n",
    "oldest_id = tweets[-1].id"
   ]
  },
  {
   "cell_type": "code",
   "execution_count": null,
   "metadata": {},
   "outputs": [],
   "source": [
    "# Get the last tweets of userID with tweet_mode set as extended in order to get the full\n",
    "# text of each tweets and therefor not a cut one which has only 140 characters available per each tweet:"
   ]
  },
  {
   "cell_type": "code",
   "execution_count": 9,
   "metadata": {},
   "outputs": [
    {
     "name": "stdout",
     "output_type": "stream",
     "text": [
      "N of tweets downloaded till now 399\n",
      "N of tweets downloaded till now 599\n",
      "N of tweets downloaded till now 799\n",
      "N of tweets downloaded till now 997\n",
      "N of tweets downloaded till now 1197\n",
      "N of tweets downloaded till now 1397\n",
      "N of tweets downloaded till now 1589\n",
      "N of tweets downloaded till now 1789\n",
      "N of tweets downloaded till now 1989\n",
      "N of tweets downloaded till now 2188\n",
      "N of tweets downloaded till now 2387\n",
      "N of tweets downloaded till now 2587\n",
      "N of tweets downloaded till now 2787\n",
      "N of tweets downloaded till now 2987\n",
      "N of tweets downloaded till now 3186\n",
      "N of tweets downloaded till now 3236\n"
     ]
    }
   ],
   "source": [
    "while True:\n",
    "    tweets = api.user_timeline(screen_name=userID, \n",
    "                           # 200 is the maximum allowed count\n",
    "                           count=200,\n",
    "                           include_rts = False,\n",
    "                           max_id = oldest_id - 1,\n",
    "                           # Necessary to keep full_text \n",
    "                           # otherwise only the first 140 words are extracted\n",
    "                           tweet_mode = 'extended'\n",
    "                           )\n",
    "    if len(tweets) == 0:\n",
    "        break\n",
    "    oldest_id = tweets[-1].id\n",
    "    all_tweets.extend(tweets)\n",
    "    print('N of tweets downloaded till now {}'.format(len(all_tweets)))"
   ]
  },
  {
   "cell_type": "code",
   "execution_count": null,
   "metadata": {},
   "outputs": [],
   "source": [
    "# Store into a csv file the info of each tweets I need, such as text, datetime, number of retweets and favorite count:"
   ]
  },
  {
   "cell_type": "code",
   "execution_count": 10,
   "metadata": {},
   "outputs": [
    {
     "data": {
      "text/html": [
       "<div>\n",
       "<style scoped>\n",
       "    .dataframe tbody tr th:only-of-type {\n",
       "        vertical-align: middle;\n",
       "    }\n",
       "\n",
       "    .dataframe tbody tr th {\n",
       "        vertical-align: top;\n",
       "    }\n",
       "\n",
       "    .dataframe thead th {\n",
       "        text-align: right;\n",
       "    }\n",
       "</style>\n",
       "<table border=\"1\" class=\"dataframe\">\n",
       "  <thead>\n",
       "    <tr style=\"text-align: right;\">\n",
       "      <th></th>\n",
       "      <th>id</th>\n",
       "      <th>created_at</th>\n",
       "      <th>favorite_count</th>\n",
       "      <th>retweet_count</th>\n",
       "      <th>text</th>\n",
       "    </tr>\n",
       "  </thead>\n",
       "  <tbody>\n",
       "    <tr>\n",
       "      <th>0</th>\n",
       "      <td>1423947184282681344</td>\n",
       "      <td>2021-08-07 10:00:39</td>\n",
       "      <td>73</td>\n",
       "      <td>25</td>\n",
       "      <td>Il suolo è una risorsa preziosa che finora non...</td>\n",
       "    </tr>\n",
       "    <tr>\n",
       "      <th>1</th>\n",
       "      <td>1423230797121740803</td>\n",
       "      <td>2021-08-05 10:33:59</td>\n",
       "      <td>205</td>\n",
       "      <td>88</td>\n",
       "      <td>Preferiamo perdere un dito o un braccio? Ho qu...</td>\n",
       "    </tr>\n",
       "    <tr>\n",
       "      <th>2</th>\n",
       "      <td>1422504336291139594</td>\n",
       "      <td>2021-08-03 10:27:17</td>\n",
       "      <td>190</td>\n",
       "      <td>57</td>\n",
       "      <td>L’agricoltura sulla Terra ha da sempre preso l...</td>\n",
       "    </tr>\n",
       "    <tr>\n",
       "      <th>3</th>\n",
       "      <td>1422107888735170561</td>\n",
       "      <td>2021-08-02 08:11:56</td>\n",
       "      <td>198</td>\n",
       "      <td>69</td>\n",
       "      <td>Immaginate un mondo digitale in cui potete con...</td>\n",
       "    </tr>\n",
       "    <tr>\n",
       "      <th>4</th>\n",
       "      <td>1421399023357992967</td>\n",
       "      <td>2021-07-31 09:15:10</td>\n",
       "      <td>264</td>\n",
       "      <td>84</td>\n",
       "      <td>La #Pediatria di #Padova vince in umanità: i #...</td>\n",
       "    </tr>\n",
       "    <tr>\n",
       "      <th>...</th>\n",
       "      <td>...</td>\n",
       "      <td>...</td>\n",
       "      <td>...</td>\n",
       "      <td>...</td>\n",
       "      <td>...</td>\n",
       "    </tr>\n",
       "    <tr>\n",
       "      <th>206</th>\n",
       "      <td>1284035280962564096</td>\n",
       "      <td>2020-07-17 08:00:41</td>\n",
       "      <td>493</td>\n",
       "      <td>161</td>\n",
       "      <td>Onde evitare strani appostamenti ed inseguimen...</td>\n",
       "    </tr>\n",
       "    <tr>\n",
       "      <th>207</th>\n",
       "      <td>1283648583863017475</td>\n",
       "      <td>2020-07-16 06:24:06</td>\n",
       "      <td>409</td>\n",
       "      <td>150</td>\n",
       "      <td>Il modo in cui produciamo, consumiamo e smalti...</td>\n",
       "    </tr>\n",
       "    <tr>\n",
       "      <th>208</th>\n",
       "      <td>1282281011729006598</td>\n",
       "      <td>2020-07-12 11:49:51</td>\n",
       "      <td>1443</td>\n",
       "      <td>508</td>\n",
       "      <td>Virgì, Roma nun te merita https://t.co/3vx37oSRgw</td>\n",
       "    </tr>\n",
       "    <tr>\n",
       "      <th>209</th>\n",
       "      <td>1281169531780714496</td>\n",
       "      <td>2020-07-09 10:13:14</td>\n",
       "      <td>213</td>\n",
       "      <td>90</td>\n",
       "      <td>#Giappone: più felicità e meno divorzi con un ...</td>\n",
       "    </tr>\n",
       "    <tr>\n",
       "      <th>210</th>\n",
       "      <td>1280125824138653696</td>\n",
       "      <td>2020-07-06 13:05:54</td>\n",
       "      <td>410</td>\n",
       "      <td>167</td>\n",
       "      <td>I sindaci di Los Angeles, Atlanta e di altre 1...</td>\n",
       "    </tr>\n",
       "  </tbody>\n",
       "</table>\n",
       "<p>211 rows × 5 columns</p>\n",
       "</div>"
      ],
      "text/plain": [
       "                      id          created_at  favorite_count  retweet_count  \\\n",
       "0    1423947184282681344 2021-08-07 10:00:39              73             25   \n",
       "1    1423230797121740803 2021-08-05 10:33:59             205             88   \n",
       "2    1422504336291139594 2021-08-03 10:27:17             190             57   \n",
       "3    1422107888735170561 2021-08-02 08:11:56             198             69   \n",
       "4    1421399023357992967 2021-07-31 09:15:10             264             84   \n",
       "..                   ...                 ...             ...            ...   \n",
       "206  1284035280962564096 2020-07-17 08:00:41             493            161   \n",
       "207  1283648583863017475 2020-07-16 06:24:06             409            150   \n",
       "208  1282281011729006598 2020-07-12 11:49:51            1443            508   \n",
       "209  1281169531780714496 2020-07-09 10:13:14             213             90   \n",
       "210  1280125824138653696 2020-07-06 13:05:54             410            167   \n",
       "\n",
       "                                                  text  \n",
       "0    Il suolo è una risorsa preziosa che finora non...  \n",
       "1    Preferiamo perdere un dito o un braccio? Ho qu...  \n",
       "2    L’agricoltura sulla Terra ha da sempre preso l...  \n",
       "3    Immaginate un mondo digitale in cui potete con...  \n",
       "4    La #Pediatria di #Padova vince in umanità: i #...  \n",
       "..                                                 ...  \n",
       "206  Onde evitare strani appostamenti ed inseguimen...  \n",
       "207  Il modo in cui produciamo, consumiamo e smalti...  \n",
       "208  Virgì, Roma nun te merita https://t.co/3vx37oSRgw  \n",
       "209  #Giappone: più felicità e meno divorzi con un ...  \n",
       "210  I sindaci di Los Angeles, Atlanta e di altre 1...  \n",
       "\n",
       "[211 rows x 5 columns]"
      ]
     },
     "execution_count": 10,
     "metadata": {},
     "output_type": "execute_result"
    }
   ],
   "source": [
    "from pandas import DataFrame\n",
    "outtweets = [[tweet.id_str, \n",
    "              tweet.created_at, \n",
    "              tweet.favorite_count, \n",
    "              tweet.retweet_count, \n",
    "              tweet.full_text.encode(\"utf-8\").decode(\"utf-8\")] \n",
    "             for idx,tweet in enumerate(all_tweets)]\n",
    "df = DataFrame(outtweets,columns=[\"id\",\"created_at\",\"favorite_count\",\"retweet_count\", \"text\"])\n",
    "df.to_csv('%s_tweets.csv' % userID,index=False)\n",
    "df.head(211)"
   ]
  },
  {
   "cell_type": "code",
   "execution_count": null,
   "metadata": {},
   "outputs": [],
   "source": []
  }
 ],
 "metadata": {
  "kernelspec": {
   "display_name": "Python 3",
   "language": "python",
   "name": "python3"
  },
  "language_info": {
   "codemirror_mode": {
    "name": "ipython",
    "version": 3
   },
   "file_extension": ".py",
   "mimetype": "text/x-python",
   "name": "python",
   "nbconvert_exporter": "python",
   "pygments_lexer": "ipython3",
   "version": "3.8.3"
  }
 },
 "nbformat": 4,
 "nbformat_minor": 4
}
