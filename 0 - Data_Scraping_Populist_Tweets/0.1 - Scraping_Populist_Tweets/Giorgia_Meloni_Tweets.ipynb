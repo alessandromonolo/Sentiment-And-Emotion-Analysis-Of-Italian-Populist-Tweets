{
 "cells": [
  {
   "cell_type": "markdown",
   "metadata": {},
   "source": [
    "Project: Tweets analysis of the main Italian populist politicians - Giuseppe Grillo, Giorgia Meloni and Matteo Salvini.\n",
    "\n",
    "Student: **Alessandro Monolo** | 1790210\n",
    "\n",
    "Lecturer: Erik HEKMAN\n",
    "\n",
    "Fundamentals of Data Science - Master Data-Driven Design, Hogeschool Utrecht.\n",
    "\n",
    "August 2021 - Block E"
   ]
  },
  {
   "cell_type": "code",
   "execution_count": null,
   "metadata": {},
   "outputs": [],
   "source": [
    "# Here I import the libraries I need"
   ]
  },
  {
   "cell_type": "code",
   "execution_count": 1,
   "metadata": {},
   "outputs": [],
   "source": [
    "import tweepy\n",
    "import requests\n",
    "import json\n",
    "import webbrowser\n",
    "import time\n",
    "import pandas as pd"
   ]
  },
  {
   "cell_type": "code",
   "execution_count": null,
   "metadata": {},
   "outputs": [],
   "source": [
    "# Here I save my personal twitter API secret keys"
   ]
  },
  {
   "cell_type": "code",
   "execution_count": 2,
   "metadata": {},
   "outputs": [],
   "source": [
    "consumer_key = \"zEOrE8aIMeJDVYQr09miZYS84\"\n",
    "consumer_secret = \"BsRCsGxPue6VgN2PiPcqHAbvOLtdYRynwWYOMXjcodju9Yie5i\"\n",
    "access_token = \"1400895858938462211-PQaaX3vGL71KOhDr0lCLNI72c7lMkJ\"\n",
    "access_token_secret = \"5xVWuUIAEn4U4DfeeMNeSWPhHPLLNWG2F59tjov4loUKK\""
   ]
  },
  {
   "cell_type": "code",
   "execution_count": 3,
   "metadata": {},
   "outputs": [],
   "source": [
    "auth = tweepy.OAuthHandler(consumer_key, consumer_secret)\n",
    "auth.set_access_token(access_token, access_token_secret)"
   ]
  },
  {
   "cell_type": "code",
   "execution_count": 4,
   "metadata": {},
   "outputs": [],
   "source": [
    "api = tweepy.API(auth, wait_on_rate_limit = True)"
   ]
  },
  {
   "cell_type": "code",
   "execution_count": null,
   "metadata": {},
   "outputs": [],
   "source": [
    "# Declare the twitter user profile where to get the last tweets using tweepy as scraping library"
   ]
  },
  {
   "cell_type": "code",
   "execution_count": 5,
   "metadata": {},
   "outputs": [],
   "source": [
    "userID = \"GiorgiaMeloni\""
   ]
  },
  {
   "cell_type": "code",
   "execution_count": 6,
   "metadata": {},
   "outputs": [],
   "source": [
    "tweets = api.user_timeline(screen_name=userID, \n",
    "                           # 200 is the maximum allowed count\n",
    "                           count=200,\n",
    "                           include_rts = False,\n",
    "                           # Necessary to keep full_text \n",
    "                           # otherwise only the first 140 words are extracted\n",
    "                           tweet_mode = 'extended'\n",
    "                           )"
   ]
  },
  {
   "cell_type": "code",
   "execution_count": null,
   "metadata": {},
   "outputs": [],
   "source": [
    "# Test if everything is working smoothly"
   ]
  },
  {
   "cell_type": "code",
   "execution_count": 7,
   "metadata": {},
   "outputs": [
    {
     "name": "stdout",
     "output_type": "stream",
     "text": [
      "ID: 1423967246989336580\n",
      "2021-08-07 11:20:22\n",
      "Come se non bastassero i controsensi e i danni derivati da questa misura economicida… https://t.co/bJFyxfZVdF\n",
      "\n",
      "\n",
      "ID: 1423939682124148741\n",
      "2021-08-07 09:30:50\n",
      "Non ci ha pensato due volte quando ha visto i suoi figli in pericolo e, purtroppo, papà Massimo non ce l'ha fatta. Ora veglierà sulla sua famiglia, così come ha fatto nel suo ultimo gesto che ha permesso ai suoi bambini di sopravvivere. \n",
      "Le mie sentite condoglianze ai suoi cari https://t.co/s3stvFutiq\n",
      "\n",
      "\n",
      "ID: 1423707250108125186\n",
      "2021-08-06 18:07:14\n",
      "Come sempre imbarazzante https://t.co/iGXXqDrkFV\n",
      "\n",
      "\n"
     ]
    }
   ],
   "source": [
    "for info in tweets[:3]:\n",
    "     print(\"ID: {}\".format(info.id))\n",
    "     print(info.created_at)\n",
    "     print(info.full_text)\n",
    "     print(\"\\n\")"
   ]
  },
  {
   "cell_type": "code",
   "execution_count": 8,
   "metadata": {},
   "outputs": [],
   "source": [
    "all_tweets = []\n",
    "all_tweets.extend(tweets)\n",
    "oldest_id = tweets[-1].id"
   ]
  },
  {
   "cell_type": "code",
   "execution_count": null,
   "metadata": {},
   "outputs": [],
   "source": [
    "# Get the last tweets of userID with tweet_mode set as extended in order to get the full\n",
    "# text of each tweets and therefor not a cut one which has only 140 characters available per each tweet:"
   ]
  },
  {
   "cell_type": "code",
   "execution_count": 9,
   "metadata": {},
   "outputs": [
    {
     "name": "stdout",
     "output_type": "stream",
     "text": [
      "N of tweets downloaded till now 348\n",
      "N of tweets downloaded till now 514\n",
      "N of tweets downloaded till now 688\n",
      "N of tweets downloaded till now 849\n",
      "N of tweets downloaded till now 1008\n",
      "N of tweets downloaded till now 1180\n",
      "N of tweets downloaded till now 1350\n",
      "N of tweets downloaded till now 1529\n",
      "N of tweets downloaded till now 1707\n",
      "N of tweets downloaded till now 1882\n",
      "N of tweets downloaded till now 2070\n",
      "N of tweets downloaded till now 2249\n",
      "N of tweets downloaded till now 2408\n",
      "N of tweets downloaded till now 2594\n",
      "N of tweets downloaded till now 2751\n",
      "N of tweets downloaded till now 2791\n"
     ]
    }
   ],
   "source": [
    "while True:\n",
    "    tweets = api.user_timeline(screen_name=userID, \n",
    "                           # 200 is the maximum allowed count\n",
    "                           count=200,\n",
    "                           include_rts = False,\n",
    "                           max_id = oldest_id - 1,\n",
    "                           # Necessary to keep full_text \n",
    "                           # otherwise only the first 140 words are extracted\n",
    "                           tweet_mode = 'extended'\n",
    "                           )\n",
    "    if len(tweets) == 0:\n",
    "        break\n",
    "    oldest_id = tweets[-1].id\n",
    "    all_tweets.extend(tweets)\n",
    "    print('N of tweets downloaded till now {}'.format(len(all_tweets)))"
   ]
  },
  {
   "cell_type": "code",
   "execution_count": null,
   "metadata": {},
   "outputs": [],
   "source": [
    "# Store into a csv file the info of each tweets I need, such as text, datetime, number of retweets and favorite count:"
   ]
  },
  {
   "cell_type": "code",
   "execution_count": 15,
   "metadata": {},
   "outputs": [
    {
     "ename": "SyntaxError",
     "evalue": "invalid syntax (<ipython-input-15-0d710d0d348f>, line 8)",
     "output_type": "error",
     "traceback": [
      "\u001b[1;36m  File \u001b[1;32m\"<ipython-input-15-0d710d0d348f>\"\u001b[1;36m, line \u001b[1;32m8\u001b[0m\n\u001b[1;33m    tweet.lang\u001b[0m\n\u001b[1;37m    ^\u001b[0m\n\u001b[1;31mSyntaxError\u001b[0m\u001b[1;31m:\u001b[0m invalid syntax\n"
     ]
    }
   ],
   "source": [
    "from pandas import DataFrame\n",
    "outtweets = [[tweet.id_str, \n",
    "              tweet.created_at, \n",
    "              tweet.favorite_count, \n",
    "              tweet.retweet_count, \n",
    "              tweet.full_text.encode(\"utf-8\").decode(\"utf-8\")]\n",
    "             for idx,tweet in enumerate(all_tweets)]\n",
    "df = DataFrame(outtweets,columns=[\"id\",\"created_at\",\"favorite_count\",\"retweet_count\", \"text\"])\n",
    "df.to_csv('%s_tweets_entities.csv' % userID,index=False)\n",
    "df.head(211)"
   ]
  }
 ],
 "metadata": {
  "kernelspec": {
   "display_name": "Python 3",
   "language": "python",
   "name": "python3"
  },
  "language_info": {
   "codemirror_mode": {
    "name": "ipython",
    "version": 3
   },
   "file_extension": ".py",
   "mimetype": "text/x-python",
   "name": "python",
   "nbconvert_exporter": "python",
   "pygments_lexer": "ipython3",
   "version": "3.8.3"
  }
 },
 "nbformat": 4,
 "nbformat_minor": 4
}
