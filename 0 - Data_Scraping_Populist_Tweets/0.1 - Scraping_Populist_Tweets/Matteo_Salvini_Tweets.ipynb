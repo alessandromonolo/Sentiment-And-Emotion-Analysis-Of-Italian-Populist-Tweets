{
 "cells": [
  {
   "cell_type": "markdown",
   "metadata": {},
   "source": [
    "Project: Tweets analysis of the main Italian populist politicians - Giuseppe Grillo, Giorgia Meloni and Matteo Salvini.\n",
    "\n",
    "Student: **Alessandro Monolo** | 1790210\n",
    "\n",
    "Lecturer: Erik HEKMAN\n",
    "\n",
    "Fundamentals of Data Science - Master Data-Driven Design, Hogeschool Utrecht.\n",
    "\n",
    "August 2021 - Block E"
   ]
  },
  {
   "cell_type": "code",
   "execution_count": null,
   "metadata": {},
   "outputs": [],
   "source": [
    "# Here I import the libraries I need"
   ]
  },
  {
   "cell_type": "code",
   "execution_count": 1,
   "metadata": {},
   "outputs": [],
   "source": [
    "import tweepy\n",
    "import requests\n",
    "import json\n",
    "import webbrowser\n",
    "import time\n",
    "import pandas as pd"
   ]
  },
  {
   "cell_type": "code",
   "execution_count": null,
   "metadata": {},
   "outputs": [],
   "source": [
    "# Here I save my personal twitter API secret keys"
   ]
  },
  {
   "cell_type": "code",
   "execution_count": 2,
   "metadata": {},
   "outputs": [],
   "source": [
    "consumer_key = \"zEOrE8aIMeJDVYQr09miZYS84\"\n",
    "consumer_secret = \"BsRCsGxPue6VgN2PiPcqHAbvOLtdYRynwWYOMXjcodju9Yie5i\"\n",
    "access_token = \"1400895858938462211-PQaaX3vGL71KOhDr0lCLNI72c7lMkJ\"\n",
    "access_token_secret = \"5xVWuUIAEn4U4DfeeMNeSWPhHPLLNWG2F59tjov4loUKK\""
   ]
  },
  {
   "cell_type": "code",
   "execution_count": 3,
   "metadata": {},
   "outputs": [],
   "source": [
    "auth = tweepy.OAuthHandler(consumer_key, consumer_secret)\n",
    "auth.set_access_token(access_token, access_token_secret)"
   ]
  },
  {
   "cell_type": "code",
   "execution_count": 4,
   "metadata": {},
   "outputs": [],
   "source": [
    "api = tweepy.API(auth, wait_on_rate_limit = True)"
   ]
  },
  {
   "cell_type": "code",
   "execution_count": null,
   "metadata": {},
   "outputs": [],
   "source": [
    "# Declare the twitter user profile where to get the last tweets using tweepy as scraping library"
   ]
  },
  {
   "cell_type": "code",
   "execution_count": 5,
   "metadata": {},
   "outputs": [],
   "source": [
    "userID = \"matteosalvinimi\""
   ]
  },
  {
   "cell_type": "code",
   "execution_count": 6,
   "metadata": {},
   "outputs": [],
   "source": [
    "tweets = api.user_timeline(screen_name=userID, \n",
    "                           # 200 is the maximum allowed count\n",
    "                           count=200,\n",
    "                           include_rts = False,\n",
    "                           # Necessary to keep full_text \n",
    "                           # otherwise only the first 140 words are extracted\n",
    "                           tweet_mode = 'extended'\n",
    "                           )"
   ]
  },
  {
   "cell_type": "code",
   "execution_count": null,
   "metadata": {},
   "outputs": [],
   "source": [
    "# Test if everything is working smoothly"
   ]
  },
  {
   "cell_type": "code",
   "execution_count": 7,
   "metadata": {},
   "outputs": [
    {
     "name": "stdout",
     "output_type": "stream",
     "text": [
      "ID: 1423972236021616640\n",
      "2021-08-07 11:40:11\n",
      "- #Tortu: “Fino alla fine! 🤣 Grazie Giorgio!”\n",
      "- #Chiellini: “😅 di nulla!”.\n",
      "AdORO! 💙🇮🇹🥇\n",
      "#4x100 https://t.co/adqbgwhIy4\n",
      "\n",
      "\n",
      "ID: 1423957506146111494\n",
      "2021-08-07 10:41:39\n",
      "🔴LIVE DA FIRENZE\n",
      "Il collegio di Siena dove si candida Letta sarà contendibile. Sulla pelle dei cittadini toscani, e penso al Monte dei Paschi, il Pd ne ha combinate di tutti i colori, distruggendo una banca che ha sei secoli di storia. Conto che i senesi scelgano il futuro. https://t.co/5PkCnzdUHh\n",
      "\n",
      "\n",
      "ID: 1423957002540228621\n",
      "2021-08-07 10:39:39\n",
      "Anche in questo caldo sabato di agosto in tantissimi qui a Firenze, mercato di Campo di Marte, per i #referendumgiustizia. Grazie ai volontari della Lega impegnati ai gazebo anche questo fine settimana in tutta Italia: verso il mezzo milione di firme!\n",
      "👉https://t.co/JQr12goqKB https://t.co/J9CnKaQpo0\n",
      "\n",
      "\n"
     ]
    }
   ],
   "source": [
    "for info in tweets[:3]:\n",
    "     print(\"ID: {}\".format(info.id))\n",
    "     print(info.created_at)\n",
    "     print(info.full_text)\n",
    "     print(\"\\n\")"
   ]
  },
  {
   "cell_type": "code",
   "execution_count": 8,
   "metadata": {},
   "outputs": [],
   "source": [
    "all_tweets = []\n",
    "all_tweets.extend(tweets)\n",
    "oldest_id = tweets[-1].id"
   ]
  },
  {
   "cell_type": "code",
   "execution_count": null,
   "metadata": {},
   "outputs": [],
   "source": [
    "# Get the last tweets of userID with tweet_mode set as extended in order to get the full\n",
    "# text of each tweets and therefor not a cut one which has only 140 characters available per each tweet:"
   ]
  },
  {
   "cell_type": "code",
   "execution_count": 9,
   "metadata": {},
   "outputs": [
    {
     "name": "stdout",
     "output_type": "stream",
     "text": [
      "N of tweets downloaded till now 392\n",
      "N of tweets downloaded till now 591\n",
      "N of tweets downloaded till now 791\n",
      "N of tweets downloaded till now 988\n",
      "N of tweets downloaded till now 1187\n",
      "N of tweets downloaded till now 1387\n",
      "N of tweets downloaded till now 1586\n",
      "N of tweets downloaded till now 1786\n",
      "N of tweets downloaded till now 1986\n",
      "N of tweets downloaded till now 2185\n",
      "N of tweets downloaded till now 2385\n",
      "N of tweets downloaded till now 2585\n",
      "N of tweets downloaded till now 2782\n",
      "N of tweets downloaded till now 2981\n",
      "N of tweets downloaded till now 3181\n",
      "N of tweets downloaded till now 3206\n"
     ]
    }
   ],
   "source": [
    "while True:\n",
    "    tweets = api.user_timeline(screen_name=userID, \n",
    "                           # 200 is the maximum allowed count\n",
    "                           count=200,\n",
    "                           include_rts = False,\n",
    "                           max_id = oldest_id - 1,\n",
    "                           # Necessary to keep full_text \n",
    "                           # otherwise only the first 140 words are extracted\n",
    "                           tweet_mode = 'extended'\n",
    "                           )\n",
    "    if len(tweets) == 0:\n",
    "        break\n",
    "    oldest_id = tweets[-1].id\n",
    "    all_tweets.extend(tweets)\n",
    "    print('N of tweets downloaded till now {}'.format(len(all_tweets)))"
   ]
  },
  {
   "cell_type": "code",
   "execution_count": null,
   "metadata": {},
   "outputs": [],
   "source": [
    "# Store into a csv file the info of each tweets I need, such as text, datetime, number of retweets and favorite count:"
   ]
  },
  {
   "cell_type": "code",
   "execution_count": 10,
   "metadata": {},
   "outputs": [
    {
     "data": {
      "text/html": [
       "<div>\n",
       "<style scoped>\n",
       "    .dataframe tbody tr th:only-of-type {\n",
       "        vertical-align: middle;\n",
       "    }\n",
       "\n",
       "    .dataframe tbody tr th {\n",
       "        vertical-align: top;\n",
       "    }\n",
       "\n",
       "    .dataframe thead th {\n",
       "        text-align: right;\n",
       "    }\n",
       "</style>\n",
       "<table border=\"1\" class=\"dataframe\">\n",
       "  <thead>\n",
       "    <tr style=\"text-align: right;\">\n",
       "      <th></th>\n",
       "      <th>id</th>\n",
       "      <th>created_at</th>\n",
       "      <th>favorite_count</th>\n",
       "      <th>retweet_count</th>\n",
       "      <th>text</th>\n",
       "    </tr>\n",
       "  </thead>\n",
       "  <tbody>\n",
       "    <tr>\n",
       "      <th>0</th>\n",
       "      <td>1423972236021616640</td>\n",
       "      <td>2021-08-07 11:40:11</td>\n",
       "      <td>314</td>\n",
       "      <td>31</td>\n",
       "      <td>- #Tortu: “Fino alla fine! 🤣 Grazie Giorgio!”\\...</td>\n",
       "    </tr>\n",
       "    <tr>\n",
       "      <th>1</th>\n",
       "      <td>1423957506146111494</td>\n",
       "      <td>2021-08-07 10:41:39</td>\n",
       "      <td>201</td>\n",
       "      <td>37</td>\n",
       "      <td>🔴LIVE DA FIRENZE\\nIl collegio di Siena dove si...</td>\n",
       "    </tr>\n",
       "    <tr>\n",
       "      <th>2</th>\n",
       "      <td>1423957002540228621</td>\n",
       "      <td>2021-08-07 10:39:39</td>\n",
       "      <td>102</td>\n",
       "      <td>22</td>\n",
       "      <td>Anche in questo caldo sabato di agosto in tant...</td>\n",
       "    </tr>\n",
       "    <tr>\n",
       "      <th>3</th>\n",
       "      <td>1423931985370783744</td>\n",
       "      <td>2021-08-07 09:00:15</td>\n",
       "      <td>319</td>\n",
       "      <td>27</td>\n",
       "      <td>Non esiste solo il Covid purtroppo. Grazie a R...</td>\n",
       "    </tr>\n",
       "    <tr>\n",
       "      <th>4</th>\n",
       "      <td>1423699275071041539</td>\n",
       "      <td>2021-08-06 17:35:32</td>\n",
       "      <td>589</td>\n",
       "      <td>68</td>\n",
       "      <td>Menagramo al contrario, #Travaglio il 29 lugli...</td>\n",
       "    </tr>\n",
       "    <tr>\n",
       "      <th>...</th>\n",
       "      <td>...</td>\n",
       "      <td>...</td>\n",
       "      <td>...</td>\n",
       "      <td>...</td>\n",
       "      <td>...</td>\n",
       "    </tr>\n",
       "    <tr>\n",
       "      <th>206</th>\n",
       "      <td>1414607660192784389</td>\n",
       "      <td>2021-07-12 15:28:42</td>\n",
       "      <td>335</td>\n",
       "      <td>43</td>\n",
       "      <td>Qui Gizzeria (Catanzaro): la Calabria è una me...</td>\n",
       "    </tr>\n",
       "    <tr>\n",
       "      <th>207</th>\n",
       "      <td>1414606630864441346</td>\n",
       "      <td>2021-07-12 15:24:37</td>\n",
       "      <td>192</td>\n",
       "      <td>22</td>\n",
       "      <td>Al di là dei gazebo, vi ricordo che potete and...</td>\n",
       "    </tr>\n",
       "    <tr>\n",
       "      <th>208</th>\n",
       "      <td>1414606620475154437</td>\n",
       "      <td>2021-07-12 15:24:35</td>\n",
       "      <td>297</td>\n",
       "      <td>35</td>\n",
       "      <td>Sorrisi e bellissima accoglienza qui in terra ...</td>\n",
       "    </tr>\n",
       "    <tr>\n",
       "      <th>209</th>\n",
       "      <td>1414597917952802821</td>\n",
       "      <td>2021-07-12 14:50:00</td>\n",
       "      <td>755</td>\n",
       "      <td>98</td>\n",
       "      <td>Allora non proprio è sempre #colpadiSalvini\\n\\...</td>\n",
       "    </tr>\n",
       "    <tr>\n",
       "      <th>210</th>\n",
       "      <td>1414592010913189892</td>\n",
       "      <td>2021-07-12 14:26:31</td>\n",
       "      <td>305</td>\n",
       "      <td>41</td>\n",
       "      <td>Lamezia Terme, anche qui si prosegue nella rac...</td>\n",
       "    </tr>\n",
       "  </tbody>\n",
       "</table>\n",
       "<p>211 rows × 5 columns</p>\n",
       "</div>"
      ],
      "text/plain": [
       "                      id          created_at  favorite_count  retweet_count  \\\n",
       "0    1423972236021616640 2021-08-07 11:40:11             314             31   \n",
       "1    1423957506146111494 2021-08-07 10:41:39             201             37   \n",
       "2    1423957002540228621 2021-08-07 10:39:39             102             22   \n",
       "3    1423931985370783744 2021-08-07 09:00:15             319             27   \n",
       "4    1423699275071041539 2021-08-06 17:35:32             589             68   \n",
       "..                   ...                 ...             ...            ...   \n",
       "206  1414607660192784389 2021-07-12 15:28:42             335             43   \n",
       "207  1414606630864441346 2021-07-12 15:24:37             192             22   \n",
       "208  1414606620475154437 2021-07-12 15:24:35             297             35   \n",
       "209  1414597917952802821 2021-07-12 14:50:00             755             98   \n",
       "210  1414592010913189892 2021-07-12 14:26:31             305             41   \n",
       "\n",
       "                                                  text  \n",
       "0    - #Tortu: “Fino alla fine! 🤣 Grazie Giorgio!”\\...  \n",
       "1    🔴LIVE DA FIRENZE\\nIl collegio di Siena dove si...  \n",
       "2    Anche in questo caldo sabato di agosto in tant...  \n",
       "3    Non esiste solo il Covid purtroppo. Grazie a R...  \n",
       "4    Menagramo al contrario, #Travaglio il 29 lugli...  \n",
       "..                                                 ...  \n",
       "206  Qui Gizzeria (Catanzaro): la Calabria è una me...  \n",
       "207  Al di là dei gazebo, vi ricordo che potete and...  \n",
       "208  Sorrisi e bellissima accoglienza qui in terra ...  \n",
       "209  Allora non proprio è sempre #colpadiSalvini\\n\\...  \n",
       "210  Lamezia Terme, anche qui si prosegue nella rac...  \n",
       "\n",
       "[211 rows x 5 columns]"
      ]
     },
     "execution_count": 10,
     "metadata": {},
     "output_type": "execute_result"
    }
   ],
   "source": [
    "from pandas import DataFrame\n",
    "outtweets = [[tweet.id_str, \n",
    "              tweet.created_at, \n",
    "              tweet.favorite_count, \n",
    "              tweet.retweet_count, \n",
    "              tweet.full_text.encode(\"utf-8\").decode(\"utf-8\")] \n",
    "             for idx,tweet in enumerate(all_tweets)]\n",
    "df = DataFrame(outtweets,columns=[\"id\",\"created_at\",\"favorite_count\",\"retweet_count\", \"text\"])\n",
    "df.to_csv('%s_tweets.csv' % userID,index=False)\n",
    "df.head(211)"
   ]
  },
  {
   "cell_type": "code",
   "execution_count": null,
   "metadata": {},
   "outputs": [],
   "source": []
  }
 ],
 "metadata": {
  "kernelspec": {
   "display_name": "Python 3",
   "language": "python",
   "name": "python3"
  },
  "language_info": {
   "codemirror_mode": {
    "name": "ipython",
    "version": 3
   },
   "file_extension": ".py",
   "mimetype": "text/x-python",
   "name": "python",
   "nbconvert_exporter": "python",
   "pygments_lexer": "ipython3",
   "version": "3.8.3"
  }
 },
 "nbformat": 4,
 "nbformat_minor": 4
}
